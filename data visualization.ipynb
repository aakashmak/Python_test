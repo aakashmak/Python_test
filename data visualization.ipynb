{
 "cells": [
  {
   "cell_type": "markdown",
   "metadata": {},
   "source": [
    "Read data"
   ]
  },
  {
   "cell_type": "code",
   "execution_count": 4,
   "metadata": {},
   "outputs": [
    {
     "data": {
      "text/html": [
       "<div>\n",
       "<style scoped>\n",
       "    .dataframe tbody tr th:only-of-type {\n",
       "        vertical-align: middle;\n",
       "    }\n",
       "\n",
       "    .dataframe tbody tr th {\n",
       "        vertical-align: top;\n",
       "    }\n",
       "\n",
       "    .dataframe thead th {\n",
       "        text-align: right;\n",
       "    }\n",
       "</style>\n",
       "<table border=\"1\" class=\"dataframe\">\n",
       "  <thead>\n",
       "    <tr style=\"text-align: right;\">\n",
       "      <th></th>\n",
       "      <th>Date</th>\n",
       "      <th>Open</th>\n",
       "      <th>High</th>\n",
       "      <th>Low</th>\n",
       "      <th>Close</th>\n",
       "      <th>Adj Close</th>\n",
       "      <th>Volume</th>\n",
       "    </tr>\n",
       "  </thead>\n",
       "  <tbody>\n",
       "    <tr>\n",
       "      <th>0</th>\n",
       "      <td>2018-04-03</td>\n",
       "      <td>1450.000000</td>\n",
       "      <td>1463.569946</td>\n",
       "      <td>1446.500000</td>\n",
       "      <td>1454.050049</td>\n",
       "      <td>1433.064453</td>\n",
       "      <td>68598</td>\n",
       "    </tr>\n",
       "    <tr>\n",
       "      <th>1</th>\n",
       "      <td>2018-04-04</td>\n",
       "      <td>1461.500000</td>\n",
       "      <td>1466.650024</td>\n",
       "      <td>1445.969971</td>\n",
       "      <td>1453.530029</td>\n",
       "      <td>1432.552002</td>\n",
       "      <td>75234</td>\n",
       "    </tr>\n",
       "    <tr>\n",
       "      <th>2</th>\n",
       "      <td>2018-04-05</td>\n",
       "      <td>1457.780029</td>\n",
       "      <td>1481.000000</td>\n",
       "      <td>1457.780029</td>\n",
       "      <td>1478.569946</td>\n",
       "      <td>1457.230469</td>\n",
       "      <td>130186</td>\n",
       "    </tr>\n",
       "    <tr>\n",
       "      <th>3</th>\n",
       "      <td>2018-04-06</td>\n",
       "      <td>1470.500000</td>\n",
       "      <td>1480.680054</td>\n",
       "      <td>1463.500000</td>\n",
       "      <td>1474.849976</td>\n",
       "      <td>1453.564331</td>\n",
       "      <td>42414</td>\n",
       "    </tr>\n",
       "    <tr>\n",
       "      <th>4</th>\n",
       "      <td>2018-04-09</td>\n",
       "      <td>1475.000000</td>\n",
       "      <td>1481.500000</td>\n",
       "      <td>1457.500000</td>\n",
       "      <td>1460.569946</td>\n",
       "      <td>1439.490356</td>\n",
       "      <td>46454</td>\n",
       "    </tr>\n",
       "  </tbody>\n",
       "</table>\n",
       "</div>"
      ],
      "text/plain": [
       "         Date         Open         High          Low        Close  \\\n",
       "0  2018-04-03  1450.000000  1463.569946  1446.500000  1454.050049   \n",
       "1  2018-04-04  1461.500000  1466.650024  1445.969971  1453.530029   \n",
       "2  2018-04-05  1457.780029  1481.000000  1457.780029  1478.569946   \n",
       "3  2018-04-06  1470.500000  1480.680054  1463.500000  1474.849976   \n",
       "4  2018-04-09  1475.000000  1481.500000  1457.500000  1460.569946   \n",
       "\n",
       "     Adj Close  Volume  \n",
       "0  1433.064453   68598  \n",
       "1  1432.552002   75234  \n",
       "2  1457.230469  130186  \n",
       "3  1453.564331   42414  \n",
       "4  1439.490356   46454  "
      ]
     },
     "execution_count": 4,
     "metadata": {},
     "output_type": "execute_result"
    }
   ],
   "source": [
    "import pandas as pd\n",
    "#aapl = pd.read_csv(\"C:/Users/shrini/Downloads/APPLE.csv\")\n",
    "#reliance = pd.read_csv(\"C:/Users/shrini/Downloads/RELIANCE.NS.csv\")\n",
    "infy = pd.read_csv(\"C:/Users/shrini/Downloads/INFY.csv\")\n",
    "tcs = pd.read_csv(\"C:/Users/shrini/Downloads/TCS.BO.csv\")\n",
    "tcs.head()"
   ]
  },
  {
   "cell_type": "code",
   "execution_count": 5,
   "metadata": {},
   "outputs": [],
   "source": [
    "import numpy as np # linear algebra\n",
    "import pandas as pd # data processing, CSV file I/O (e.g. pd.read_csv)\n",
    "import warnings\n",
    "warnings.filterwarnings('ignore')\n",
    "from bokeh.plotting import figure, show, output_file, output_notebook\n",
    "from bokeh.palettes import Spectral11, colorblind, Inferno, BuGn, brewer\n",
    "from bokeh.models import HoverTool, value, LabelSet, Legend, ColumnDataSource,LinearColorMapper,BasicTicker, PrintfTickFormatter, ColorBar\n",
    "import datetime"
   ]
  },
  {
   "cell_type": "code",
   "execution_count": 6,
   "metadata": {},
   "outputs": [],
   "source": [
    "TOOLS = 'crosshair,save,pan,box_zoom,reset,wheel_zoom'\n",
    "p1 = figure(title=\"stock market\", y_axis_type=\"linear\",x_axis_type='datetime', tools = TOOLS)"
   ]
  },
  {
   "cell_type": "code",
   "execution_count": 7,
   "metadata": {},
   "outputs": [
    {
     "data": {
      "text/plain": [
       "0     2018-04-03\n",
       "1     2018-04-04\n",
       "2     2018-04-05\n",
       "3     2018-04-06\n",
       "4     2018-04-09\n",
       "5     2018-04-10\n",
       "6     2018-04-11\n",
       "7     2018-04-12\n",
       "8     2018-04-13\n",
       "9     2018-04-16\n",
       "10    2018-04-17\n",
       "11    2018-04-18\n",
       "12    2018-04-19\n",
       "13    2018-04-20\n",
       "14    2018-04-23\n",
       "15    2018-04-24\n",
       "16    2018-04-25\n",
       "17    2018-04-26\n",
       "18    2018-04-27\n",
       "19    2018-04-30\n",
       "20    2018-05-02\n",
       "21    2018-05-03\n",
       "22    2018-05-04\n",
       "23    2018-05-07\n",
       "24    2018-05-08\n",
       "25    2018-05-09\n",
       "26    2018-05-10\n",
       "27    2018-05-11\n",
       "28    2018-05-14\n",
       "29    2018-05-15\n",
       "         ...    \n",
       "218   2019-02-18\n",
       "219   2019-02-19\n",
       "220   2019-02-20\n",
       "221   2019-02-21\n",
       "222   2019-02-22\n",
       "223   2019-02-25\n",
       "224   2019-02-26\n",
       "225   2019-02-27\n",
       "226   2019-02-28\n",
       "227   2019-03-01\n",
       "228   2019-03-05\n",
       "229   2019-03-06\n",
       "230   2019-03-07\n",
       "231   2019-03-08\n",
       "232   2019-03-11\n",
       "233   2019-03-12\n",
       "234   2019-03-13\n",
       "235   2019-03-14\n",
       "236   2019-03-15\n",
       "237   2019-03-18\n",
       "238   2019-03-19\n",
       "239   2019-03-20\n",
       "240   2019-03-22\n",
       "241   2019-03-25\n",
       "242   2019-03-26\n",
       "243   2019-03-27\n",
       "244   2019-03-28\n",
       "245   2019-04-01\n",
       "246   2019-04-02\n",
       "247   2019-04-03\n",
       "Name: Date, Length: 248, dtype: datetime64[ns]"
      ]
     },
     "execution_count": 7,
     "metadata": {},
     "output_type": "execute_result"
    }
   ],
   "source": [
    "k1=pd.to_datetime(tcs[\"Date\"]); k1"
   ]
  },
  {
   "cell_type": "markdown",
   "metadata": {},
   "source": [
    "Line "
   ]
  },
  {
   "cell_type": "code",
   "execution_count": 5,
   "metadata": {},
   "outputs": [],
   "source": [
    "p1.line(k1, tcs.Close, legend=\"tcs stock\", line_color=\"blue\",line_width = 3)\n",
    "output_file(\"mak1.html\", title=\"plot\")\n",
    "show(p1)"
   ]
  },
  {
   "cell_type": "code",
   "execution_count": 6,
   "metadata": {},
   "outputs": [
    {
     "name": "stderr",
     "output_type": "stream",
     "text": [
      "C:\\Users\\shrini\\Anaconda3\\lib\\site-packages\\bokeh\\models\\sources.py:110: BokehUserWarning: ColumnDataSource's columns must be of the same length. Current lengths: ('x', 248), ('y', 252)\n",
      "  \"Current lengths: %s\" % \", \".join(sorted(str((k, len(v))) for k, v in data.items())), BokehUserWarning))\n"
     ]
    }
   ],
   "source": [
    "p1.line(k1, infy.Close, legend=\"infy stock\", line_color=\"blue\",line_width = 3)\n",
    "output_file(\"mak12.html\", title=\"plot\")\n",
    "show(p1)"
   ]
  },
  {
   "cell_type": "code",
   "execution_count": 7,
   "metadata": {},
   "outputs": [
    {
     "name": "stderr",
     "output_type": "stream",
     "text": [
      "C:\\Users\\shrini\\Anaconda3\\lib\\site-packages\\bokeh\\models\\sources.py:110: BokehUserWarning: ColumnDataSource's columns must be of the same length. Current lengths: ('x', 248), ('y', 252)\n",
      "  \"Current lengths: %s\" % \", \".join(sorted(str((k, len(v))) for k, v in data.items())), BokehUserWarning))\n"
     ]
    }
   ],
   "source": [
    "p1.line(k1, tcs.Volume, legend=\"tcs volume\", line_color=\"blue\",line_width = 3)\n",
    "p1.line(k1, infy.Volume, legend=\"infy volume\", line_color=\"red\",line_width = 3)\n",
    "output_file(\"mak1.html\", title=\"plot\")\n",
    "show(p1)"
   ]
  },
  {
   "cell_type": "markdown",
   "metadata": {},
   "source": [
    "Auto Correlation"
   ]
  },
  {
   "cell_type": "code",
   "execution_count": 8,
   "metadata": {},
   "outputs": [],
   "source": [
    "def acf(series):\n",
    "    n = len(series)\n",
    "    data = np.asarray(series)\n",
    "    mean = np.mean(data)\n",
    "    c0 = np.sum((data - mean) ** 2) / float(n)\n",
    "    def r(h):\n",
    "        acf_lag = ((data[:n - h] - mean) * (data[h:] - mean)).sum() / float(n) / c0\n",
    "        return round(acf_lag, 3)\n",
    "    x = np.arange(n) # Avoiding lag 0 calculation\n",
    "    acf_coeffs = pd.Series(map(r, x)).round(decimals = 3)\n",
    "    acf_coeffs = acf_coeffs + 0\n",
    "    return acf_coeffs\n",
    "\n",
    "def significance(series):\n",
    "    n = len(series)\n",
    "    z95 = 1.959963984540054 / np.sqrt(n)\n",
    "    z99 = 2.5758293035489004 / np.sqrt(n)\n",
    "    return(z95,z99)\n",
    "\n",
    "def bok_autocor(series):\n",
    "    x = pd.Series(range(1, len(series)+1), dtype = float)\n",
    "    z95, z99 = significance(series)\n",
    "    y = acf(series)\n",
    "    p = figure(title='Time Series Auto-Correlation', plot_width=1000,\n",
    "               plot_height=500, x_axis_label=\"Lag\", y_axis_label=\"Autocorrelation\")\n",
    "    p.line(x, z99, line_dash='dashed', line_color='grey')\n",
    "    p.line(x, z95, line_color = 'grey')\n",
    "    p.line(x, y=0.0, line_color='black')\n",
    "    p.line(x, z99*-1, line_dash='dashed', line_color='grey')\n",
    "    p.line(x, z95*-1, line_color = 'grey')\n",
    "    p.line(x, y, line_width=2)\n",
    "    return p\n",
    "\n",
    "series = tcs[\"Volume\"]\n",
    "show(series.pipe(bok_autocor))"
   ]
  },
  {
   "cell_type": "markdown",
   "metadata": {},
   "source": [
    "\n"
   ]
  },
  {
   "cell_type": "code",
   "execution_count": 12,
   "metadata": {},
   "outputs": [],
   "source": []
  },
  {
   "cell_type": "code",
   "execution_count": null,
   "metadata": {},
   "outputs": [],
   "source": []
  },
  {
   "cell_type": "code",
   "execution_count": 16,
   "metadata": {},
   "outputs": [],
   "source": []
  },
  {
   "cell_type": "code",
   "execution_count": 26,
   "metadata": {},
   "outputs": [],
   "source": [
    "\n",
    "\n",
    "        "
   ]
  },
  {
   "cell_type": "code",
   "execution_count": null,
   "metadata": {},
   "outputs": [],
   "source": []
  },
  {
   "cell_type": "code",
   "execution_count": null,
   "metadata": {},
   "outputs": [],
   "source": []
  }
 ],
 "metadata": {
  "kernelspec": {
   "display_name": "Python 3",
   "language": "python",
   "name": "python3"
  },
  "language_info": {
   "codemirror_mode": {
    "name": "ipython",
    "version": 3
   },
   "file_extension": ".py",
   "mimetype": "text/x-python",
   "name": "python",
   "nbconvert_exporter": "python",
   "pygments_lexer": "ipython3",
   "version": "3.7.0"
  }
 },
 "nbformat": 4,
 "nbformat_minor": 2
}
